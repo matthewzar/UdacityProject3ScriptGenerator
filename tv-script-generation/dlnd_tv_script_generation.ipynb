{
 "cells": [
  {
   "cell_type": "markdown",
   "metadata": {
    "deletable": true,
    "editable": true
   },
   "source": [
    "# TV Script Generation\n",
    "In this project, you'll generate your own [Simpsons](https://en.wikipedia.org/wiki/The_Simpsons) TV scripts using RNNs.  You'll be using part of the [Simpsons dataset](https://www.kaggle.com/wcukierski/the-simpsons-by-the-data) of scripts from 27 seasons.  The Neural Network you'll build will generate a new TV script for a scene at [Moe's Tavern](https://simpsonswiki.com/wiki/Moe's_Tavern).\n",
    "## Get the Data\n",
    "The data is already provided for you.  You'll be using a subset of the original dataset.  It consists of only the scenes in Moe's Tavern.  This doesn't include other versions of the tavern, like \"Moe's Cavern\", \"Flaming Moe's\", \"Uncle Moe's Family Feed-Bag\", etc.."
   ]
  },
  {
   "cell_type": "code",
   "execution_count": 1,
   "metadata": {
    "collapsed": false,
    "deletable": true,
    "editable": true
   },
   "outputs": [],
   "source": [
    "\"\"\"\n",
    "DON'T MODIFY ANYTHING IN THIS CELL\n",
    "\"\"\"\n",
    "import helper\n",
    "\n",
    "data_dir = './data/simpsons/moes_tavern_lines.txt'\n",
    "text = helper.load_data(data_dir)\n",
    "# Ignore notice, since we don't use it for analysing the data\n",
    "text = text[81:]"
   ]
  },
  {
   "cell_type": "markdown",
   "metadata": {
    "deletable": true,
    "editable": true
   },
   "source": [
    "## Explore the Data\n",
    "Play around with `view_sentence_range` to view different parts of the data."
   ]
  },
  {
   "cell_type": "code",
   "execution_count": 3,
   "metadata": {
    "collapsed": false,
    "deletable": true,
    "editable": true
   },
   "outputs": [
    {
     "name": "stdout",
     "output_type": "stream",
     "text": [
      "Dataset Stats\n",
      "Roughly the number of unique words: 11492\n",
      "Number of scenes: 262\n",
      "Average number of sentences in each scene: 15.251908396946565\n",
      "Number of lines: 4258\n",
      "Average number of words in each line: 11.50164396430249\n",
      "\n",
      "The sentences 5 to 15:\n",
      "Moe_Szyslak: What's the matter Homer? You're not your normal effervescent self.\n",
      "Homer_Simpson: I got my problems, Moe. Give me another one.\n",
      "Moe_Szyslak: Homer, hey, you should not drink to forget your problems.\n",
      "Barney_Gumble: Yeah, you should only drink to enhance your social skills.\n",
      "\n",
      "\n",
      "Moe_Szyslak: Ah, isn't that nice. Now, there is a politician who cares.\n",
      "Barney_Gumble: If I ever vote, it'll be for him. (BELCH)\n",
      "\n",
      "\n"
     ]
    }
   ],
   "source": [
    "view_sentence_range = (5, 15)\n",
    "\n",
    "\"\"\"\n",
    "DON'T MODIFY ANYTHING IN THIS CELL\n",
    "\"\"\"\n",
    "import numpy as np\n",
    "\n",
    "print('Dataset Stats')\n",
    "print('Roughly the number of unique words: {}'.format(len({word: None for word in text.split()})))\n",
    "scenes = text.split('\\n\\n')\n",
    "print('Number of scenes: {}'.format(len(scenes)))\n",
    "sentence_count_scene = [scene.count('\\n') for scene in scenes]\n",
    "print('Average number of sentences in each scene: {}'.format(np.average(sentence_count_scene)))\n",
    "\n",
    "sentences = [sentence for scene in scenes for sentence in scene.split('\\n')]\n",
    "print('Number of lines: {}'.format(len(sentences)))\n",
    "word_count_sentence = [len(sentence.split()) for sentence in sentences]\n",
    "print('Average number of words in each line: {}'.format(np.average(word_count_sentence)))\n",
    "\n",
    "print()\n",
    "print('The sentences {} to {}:'.format(*view_sentence_range))\n",
    "print('\\n'.join(text.split('\\n')[view_sentence_range[0]:view_sentence_range[1]]))"
   ]
  },
  {
   "cell_type": "markdown",
   "metadata": {
    "deletable": true,
    "editable": true
   },
   "source": [
    "## Implement Preprocessing Functions\n",
    "The first thing to do to any dataset is preprocessing.  Implement the following preprocessing functions below:\n",
    "- Lookup Table\n",
    "- Tokenize Punctuation\n",
    "\n",
    "### Lookup Table\n",
    "To create a word embedding, you first need to transform the words to ids.  In this function, create two dictionaries:\n",
    "- Dictionary to go from the words to an id, we'll call `vocab_to_int`\n",
    "- Dictionary to go from the id to word, we'll call `int_to_vocab`\n",
    "\n",
    "Return these dictionaries in the following tuple `(vocab_to_int, int_to_vocab)`"
   ]
  },
  {
   "cell_type": "code",
   "execution_count": 14,
   "metadata": {
    "collapsed": false,
    "deletable": true,
    "editable": true
   },
   "outputs": [
    {
     "name": "stdout",
     "output_type": "stream",
     "text": [
      "Tests Passed\n"
     ]
    }
   ],
   "source": [
    "import numpy as np\n",
    "import problem_unittests as tests\n",
    "\n",
    "def create_lookup_tables(text):\n",
    "    \"\"\"\n",
    "    Create lookup tables for vocabulary\n",
    "    :param text: The text of tv scripts split into words\n",
    "    :return: A tuple of dicts (vocab_to_int, int_to_vocab)\n",
    "    \"\"\"\n",
    "    #We use a set rather than a Counter, as we aren't interested in frequency,\n",
    "    #we are just interested in unique identifiers\n",
    "    vocab = set(text)\n",
    "    vocab_to_int = {word: num for num, word in enumerate(vocab)}\n",
    "    int_to_vocab = dict(enumerate(vocab))\n",
    "    return (vocab_to_int, int_to_vocab)\n",
    "\n",
    "\n",
    "\"\"\"\n",
    "DON'T MODIFY ANYTHING IN THIS CELL THAT IS BELOW THIS LINE\n",
    "\"\"\"\n",
    "tests.test_create_lookup_tables(create_lookup_tables)"
   ]
  },
  {
   "cell_type": "markdown",
   "metadata": {
    "deletable": true,
    "editable": true
   },
   "source": [
    "### Tokenize Punctuation\n",
    "We'll be splitting the script into a word array using spaces as delimiters.  However, punctuations like periods and exclamation marks make it hard for the neural network to distinguish between the word \"bye\" and \"bye!\".\n",
    "\n",
    "Implement the function `token_lookup` to return a dict that will be used to tokenize symbols like \"!\" into \"||Exclamation_Mark||\".  Create a dictionary for the following symbols where the symbol is the key and value is the token:\n",
    "- Period ( . )\n",
    "- Comma ( , )\n",
    "- Quotation Mark ( \" )\n",
    "- Semicolon ( ; )\n",
    "- Exclamation mark ( ! )\n",
    "- Question mark ( ? )\n",
    "- Left Parentheses ( ( )\n",
    "- Right Parentheses ( ) )\n",
    "- Dash ( -- )\n",
    "- Return ( \\n )\n",
    "\n",
    "This dictionary will be used to token the symbols and add the delimiter (space) around it.  This separates the symbols as it's own word, making it easier for the neural network to predict on the next word. Make sure you don't use a token that could be confused as a word. Instead of using the token \"dash\", try using something like \"||dash||\"."
   ]
  },
  {
   "cell_type": "code",
   "execution_count": 18,
   "metadata": {
    "collapsed": false,
    "deletable": true,
    "editable": true
   },
   "outputs": [
    {
     "name": "stdout",
     "output_type": "stream",
     "text": [
      "Tests Passed\n"
     ]
    }
   ],
   "source": [
    "def token_lookup():\n",
    "    \"\"\"\n",
    "    Generate a dict to turn punctuation into a token.\n",
    "    :return: Tokenize dictionary where the key is the punctuation and the value is the token\n",
    "    \"\"\"\n",
    "    #I wonder if there's a neater, more extensible way to do this?\n",
    "    #This just feels clumsy.\n",
    "    return {'.': '||period||',\n",
    "            ',': '||comma||',\n",
    "            '\"': '||quote||',\n",
    "            ';': '||semicolon||',\n",
    "            '!': '||exclamation||',\n",
    "            '?': '||question_mark||',\n",
    "            '(': '||left_paren||',\n",
    "            ')': '||right_paren||',\n",
    "           '--': '||double_dash||',\n",
    "           '\\n': '||return||'}\n",
    "\n",
    "\"\"\"\n",
    "DON'T MODIFY ANYTHING IN THIS CELL THAT IS BELOW THIS LINE\n",
    "\"\"\"\n",
    "tests.test_tokenize(token_lookup)"
   ]
  },
  {
   "cell_type": "markdown",
   "metadata": {
    "deletable": true,
    "editable": true
   },
   "source": [
    "## Preprocess all the data and save it\n",
    "Running the code cell below will preprocess all the data and save it to file."
   ]
  },
  {
   "cell_type": "code",
   "execution_count": 19,
   "metadata": {
    "collapsed": false,
    "deletable": true,
    "editable": true
   },
   "outputs": [],
   "source": [
    "\"\"\"\n",
    "DON'T MODIFY ANYTHING IN THIS CELL\n",
    "\"\"\"\n",
    "# Preprocess Training, Validation, and Testing Data\n",
    "helper.preprocess_and_save_data(data_dir, token_lookup, create_lookup_tables)"
   ]
  },
  {
   "cell_type": "markdown",
   "metadata": {
    "deletable": true,
    "editable": true
   },
   "source": [
    "# Check Point\n",
    "This is your first checkpoint. If you ever decide to come back to this notebook or have to restart the notebook, you can start from here. The preprocessed data has been saved to disk."
   ]
  },
  {
   "cell_type": "code",
   "execution_count": 20,
   "metadata": {
    "collapsed": false,
    "deletable": true,
    "editable": true
   },
   "outputs": [],
   "source": [
    "\"\"\"\n",
    "DON'T MODIFY ANYTHING IN THIS CELL\n",
    "\"\"\"\n",
    "import helper\n",
    "import numpy as np\n",
    "import problem_unittests as tests\n",
    "\n",
    "int_text, vocab_to_int, int_to_vocab, token_dict = helper.load_preprocess()"
   ]
  },
  {
   "cell_type": "markdown",
   "metadata": {
    "deletable": true,
    "editable": true
   },
   "source": [
    "## Build the Neural Network\n",
    "You'll build the components necessary to build a RNN by implementing the following functions below:\n",
    "- get_inputs\n",
    "- get_init_cell\n",
    "- get_embed\n",
    "- build_rnn\n",
    "- build_nn\n",
    "- get_batches\n",
    "\n",
    "### Check the Version of TensorFlow and Access to GPU"
   ]
  },
  {
   "cell_type": "code",
   "execution_count": 23,
   "metadata": {
    "collapsed": false
   },
   "outputs": [
    {
     "name": "stdout",
     "output_type": "stream",
     "text": [
      "TensorFlow Version: 1.0.0\n"
     ]
    },
    {
     "name": "stderr",
     "output_type": "stream",
     "text": [
      "C:\\Continuum\\Anaconda3\\envs\\tflearn\\lib\\site-packages\\ipykernel\\__main__.py:16: UserWarning: No GPU found. Please use a GPU to train your neural network.\n"
     ]
    }
   ],
   "source": [
    "#TODO - Come back and rerun this this check when on a GPU machine.\n",
    "#until then NN training and output code will be slow\n",
    "\"\"\"\n",
    "DON'T MODIFY ANYTHING IN THIS CELL\n",
    "\"\"\"\n",
    "from distutils.version import LooseVersion\n",
    "import warnings\n",
    "import tensorflow as tf\n",
    "\n",
    "# Check TensorFlow Version\n",
    "assert LooseVersion(tf.__version__) >= LooseVersion('1.0'), 'Please use TensorFlow version 1.0 or newer'\n",
    "print('TensorFlow Version: {}'.format(tf.__version__))\n",
    "\n",
    "# Check for a GPU\n",
    "if not tf.test.gpu_device_name():\n",
    "    warnings.warn('No GPU found. Please use a GPU to train your neural network.')\n",
    "else:\n",
    "    print('Default GPU Device: {}'.format(tf.test.gpu_device_name()))"
   ]
  },
  {
   "cell_type": "markdown",
   "metadata": {},
   "source": [
    "### Input\n",
    "Implement the `get_inputs()` function to create TF Placeholders for the Neural Network.  It should create the following placeholders:\n",
    "- Input text placeholder named \"input\" using the [TF Placeholder](https://www.tensorflow.org/api_docs/python/tf/placeholder) `name` parameter.\n",
    "- Targets placeholder\n",
    "- Learning Rate placeholder\n",
    "\n",
    "Return the placeholders in the following the tuple `(Input, Targets, LearingRate)`"
   ]
  },
  {
   "cell_type": "code",
   "execution_count": 25,
   "metadata": {
    "collapsed": false
   },
   "outputs": [
    {
     "name": "stdout",
     "output_type": "stream",
     "text": [
      "Help on function placeholder in module tensorflow.python.ops.array_ops:\n",
      "\n",
      "placeholder(dtype, shape=None, name=None)\n",
      "    Inserts a placeholder for a tensor that will be always fed.\n",
      "    \n",
      "    **Important**: This tensor will produce an error if evaluated. Its value must\n",
      "    be fed using the `feed_dict` optional argument to `Session.run()`,\n",
      "    `Tensor.eval()`, or `Operation.run()`.\n",
      "    \n",
      "    For example:\n",
      "    \n",
      "    ```python\n",
      "    x = tf.placeholder(tf.float32, shape=(1024, 1024))\n",
      "    y = tf.matmul(x, x)\n",
      "    \n",
      "    with tf.Session() as sess:\n",
      "      print(sess.run(y))  # ERROR: will fail because x was not fed.\n",
      "    \n",
      "      rand_array = np.random.rand(1024, 1024)\n",
      "      print(sess.run(y, feed_dict={x: rand_array}))  # Will succeed.\n",
      "    ```\n",
      "    \n",
      "    Args:\n",
      "      dtype: The type of elements in the tensor to be fed.\n",
      "      shape: The shape of the tensor to be fed (optional). If the shape is not\n",
      "        specified, you can feed a tensor of any shape.\n",
      "      name: A name for the operation (optional).\n",
      "    \n",
      "    Returns:\n",
      "      A `Tensor` that may be used as a handle for feeding a value, but not\n",
      "      evaluated directly.\n",
      "\n"
     ]
    }
   ],
   "source": [
    "help(tf.placeholder)"
   ]
  },
  {
   "cell_type": "code",
   "execution_count": 27,
   "metadata": {
    "collapsed": false,
    "deletable": true,
    "editable": true
   },
   "outputs": [
    {
     "name": "stdout",
     "output_type": "stream",
     "text": [
      "Tests Passed\n"
     ]
    }
   ],
   "source": [
    "def get_inputs():\n",
    "    \"\"\"\n",
    "    Create TF Placeholders for input, targets, and learning rate.\n",
    "    :return: Tuple (input, targets, learning rate)\n",
    "    \"\"\"\n",
    "    #best to avoid calling it 'input' as it's a pre-existing python function\n",
    "    #Having shapes of [None, None] means it isn't a convolutional/multilayer tensor\n",
    "    #Nones mean that values depend on inputs, not pre-defined shapes\n",
    "    raw_input = tf.placeholder(tf.int32, shape=[None, None], name='input')\n",
    "    targets = tf.placeholder(tf.int32, shape=[None, None], name='targets')\n",
    "    learning_rate = tf.placeholder(tf.float32, name='learning_rate')\n",
    "    return (raw_input, targets, learning_rate)\n",
    "\n",
    "\n",
    "\"\"\"\n",
    "DON'T MODIFY ANYTHING IN THIS CELL THAT IS BELOW THIS LINE\n",
    "\"\"\"\n",
    "tests.test_get_inputs(get_inputs)"
   ]
  },
  {
   "cell_type": "markdown",
   "metadata": {
    "deletable": true,
    "editable": true
   },
   "source": [
    "### Build RNN Cell and Initialize\n",
    "Stack one or more [`BasicLSTMCells`](https://www.tensorflow.org/api_docs/python/tf/contrib/rnn/BasicLSTMCell) in a [`MultiRNNCell`](https://www.tensorflow.org/api_docs/python/tf/contrib/rnn/MultiRNNCell).\n",
    "- The Rnn size should be set using `rnn_size`\n",
    "- Initalize Cell State using the MultiRNNCell's [`zero_state()`](https://www.tensorflow.org/api_docs/python/tf/contrib/rnn/MultiRNNCell#zero_state) function\n",
    "    - Apply the name \"initial_state\" to the initial state using [`tf.identity()`](https://www.tensorflow.org/api_docs/python/tf/identity)\n",
    "\n",
    "Return the cell and initial state in the following tuple `(Cell, InitialState)`"
   ]
  },
  {
   "cell_type": "code",
   "execution_count": 34,
   "metadata": {
    "collapsed": false,
    "deletable": true,
    "editable": true
   },
   "outputs": [
    {
     "name": "stdout",
     "output_type": "stream",
     "text": [
      "Tests Passed\n"
     ]
    }
   ],
   "source": [
    "totalLSTMs = 3\n",
    "def get_init_cell(batch_size, rnn_size):\n",
    "    \"\"\"\n",
    "    Create an RNN Cell and initialize it.\n",
    "    :param batch_size: Size of batches\n",
    "    :param rnn_size: Size of RNNs\n",
    "    :return: Tuple (cell, initialize state)\n",
    "    \"\"\"\n",
    "    #The Rnn size should be set using rnn_size\n",
    "    lstm = tf.contrib.rnn.BasicLSTMCell(rnn_size)\n",
    "    \n",
    "    #Create multiRNNcell using dynamic number of lstms\n",
    "    cell = tf.contrib.rnn.MultiRNNCell([lstm] * totalLSTMs)\n",
    "    \n",
    "    #Initalize Cell State using the MultiRNNCell's zero_state() function\n",
    "    initial_state = cell.zero_state(batch_size, tf.float32)\n",
    "    \n",
    "    #Apply the name \"initial_state\" to the initial state using tf.identity()\n",
    "    initial_state = tf.identity(initial_state, name= \"initial_state\")\n",
    "    return (cell, initial_state)\n",
    "\n",
    "\n",
    "\"\"\"\n",
    "DON'T MODIFY ANYTHING IN THIS CELL THAT IS BELOW THIS LINE\n",
    "\"\"\"\n",
    "tests.test_get_init_cell(get_init_cell)"
   ]
  },
  {
   "cell_type": "markdown",
   "metadata": {
    "deletable": true,
    "editable": true
   },
   "source": [
    "### Word Embedding\n",
    "Apply embedding to `input_data` using TensorFlow.  Return the embedded sequence."
   ]
  },
  {
   "cell_type": "code",
   "execution_count": 35,
   "metadata": {
    "collapsed": false
   },
   "outputs": [
    {
     "name": "stdout",
     "output_type": "stream",
     "text": [
      "Help on function embed_sequence in module tensorflow.contrib.layers.python.layers.encoders:\n",
      "\n",
      "embed_sequence(ids, vocab_size=None, embed_dim=None, unique=False, initializer=None, regularizer=None, trainable=True, scope=None, reuse=None)\n",
      "    Maps a sequence of symbols to a sequence of embeddings.\n",
      "    \n",
      "    Typical use case would be reusing embeddings between an encoder and decoder.\n",
      "    \n",
      "    Args:\n",
      "      ids: `[batch_size, doc_length]` `Tensor` of type `int32` or `int64`\n",
      "        with symbol ids.\n",
      "      vocab_size: Integer number of symbols in vocabulary.\n",
      "      embed_dim: Integer number of dimensions for embedding matrix.\n",
      "      unique: If `True`, will first compute the unique set of indices, and then\n",
      "           lookup each embedding once, repeating them in the output as needed.\n",
      "      initializer: An initializer for the embeddings, if `None` default for\n",
      "          current scope is used.\n",
      "      regularizer: Optional regularizer for the embeddings.\n",
      "      trainable: If `True` also add variables to the graph collection\n",
      "        `GraphKeys.TRAINABLE_VARIABLES` (see `tf.Variable`).\n",
      "      scope: Optional string specifying the variable scope for the op, required\n",
      "          if `reuse=True`.\n",
      "      reuse: If `True`, variables inside the op will be reused.\n",
      "    \n",
      "    Returns:\n",
      "      `Tensor` of `[batch_size, doc_length, embed_dim]` with embedded sequences.\n",
      "    \n",
      "    Raises:\n",
      "      ValueError: if `embed_dim` or `vocab_size` are not specified when not\n",
      "        `reuse` is `None` or `False`.\n",
      "\n"
     ]
    }
   ],
   "source": [
    "help(tf.contrib.layers.embed_sequence)"
   ]
  },
  {
   "cell_type": "code",
   "execution_count": 36,
   "metadata": {
    "collapsed": false,
    "deletable": true,
    "editable": true
   },
   "outputs": [
    {
     "name": "stdout",
     "output_type": "stream",
     "text": [
      "Tests Passed\n"
     ]
    }
   ],
   "source": [
    "def get_embed(input_data, vocab_size, embed_dim):\n",
    "    \"\"\"\n",
    "    Create embedding for <input_data>.\n",
    "    :param input_data: TF placeholder for text input.\n",
    "    :param vocab_size: Number of words in vocabulary.\n",
    "    :param embed_dim: Number of embedding dimensions\n",
    "    :return: Embedded input.\n",
    "    \"\"\"\n",
    "    return tf.contrib.layers.embed_sequence(input_data, \n",
    "                                            vocab_size=vocab_size, \n",
    "                                            embed_dim=embed_dim)\n",
    "\n",
    "\n",
    "\"\"\"\n",
    "DON'T MODIFY ANYTHING IN THIS CELL THAT IS BELOW THIS LINE\n",
    "\"\"\"\n",
    "tests.test_get_embed(get_embed)"
   ]
  },
  {
   "cell_type": "markdown",
   "metadata": {
    "deletable": true,
    "editable": true
   },
   "source": [
    "### Build RNN\n",
    "You created a RNN Cell in the `get_init_cell()` function.  Time to use the cell to create a RNN.\n",
    "- Build the RNN using the [`tf.nn.dynamic_rnn()`](https://www.tensorflow.org/api_docs/python/tf/nn/dynamic_rnn)\n",
    " - Apply the name \"final_state\" to the final state using [`tf.identity()`](https://www.tensorflow.org/api_docs/python/tf/identity)\n",
    "\n",
    "Return the outputs and final_state state in the following tuple `(Outputs, FinalState)` "
   ]
  },
  {
   "cell_type": "code",
   "execution_count": 37,
   "metadata": {
    "collapsed": false,
    "deletable": true,
    "editable": true
   },
   "outputs": [
    {
     "name": "stdout",
     "output_type": "stream",
     "text": [
      "Tests Passed\n"
     ]
    }
   ],
   "source": [
    "def build_rnn(cell, inputs):\n",
    "    \"\"\"\n",
    "    Create a RNN using a RNN Cell\n",
    "    :param cell: RNN Cell\n",
    "    :param inputs: Input text data\n",
    "    :return: Tuple (Outputs, Final State)\n",
    "    \"\"\"\n",
    "    #Build the RNN using the tf.nn.dynamic_rnn()\n",
    "    outputs, finalState = tf.nn.dynamic_rnn(cell, inputs, dtype=tf.float32)\n",
    "    \n",
    "    #Apply the name \"final_state\" to the final state using tf.identity()\n",
    "    finalState = tf.identity(finalState, name=\"final_state\")\n",
    "    return (outputs, finalState)\n",
    "\n",
    "\n",
    "\"\"\"\n",
    "DON'T MODIFY ANYTHING IN THIS CELL THAT IS BELOW THIS LINE\n",
    "\"\"\"\n",
    "tests.test_build_rnn(build_rnn)"
   ]
  },
  {
   "cell_type": "markdown",
   "metadata": {
    "deletable": true,
    "editable": true
   },
   "source": [
    "### Build the Neural Network\n",
    "Apply the functions you implemented above to:\n",
    "- Apply embedding to `input_data` using your `get_embed(input_data, vocab_size, embed_dim)` function.\n",
    "- Build RNN using `cell` and your `build_rnn(cell, inputs)` function.\n",
    "- Apply a fully connected layer with a linear activation and `vocab_size` as the number of outputs.\n",
    "\n",
    "Return the logits and final state in the following tuple (Logits, FinalState) "
   ]
  },
  {
   "cell_type": "code",
   "execution_count": 38,
   "metadata": {
    "collapsed": false
   },
   "outputs": [
    {
     "name": "stdout",
     "output_type": "stream",
     "text": [
      "Help on function fully_connected in module tensorflow.contrib.layers.python.layers.layers:\n",
      "\n",
      "fully_connected(inputs, num_outputs, activation_fn=<function relu at 0x0000026F9797C268>, normalizer_fn=None, normalizer_params=None, weights_initializer=<function variance_scaling_initializer.<locals>._initializer at 0x0000026F991E6E18>, weights_regularizer=None, biases_initializer=<tensorflow.python.ops.init_ops.Zeros object at 0x0000026F991E2780>, biases_regularizer=None, reuse=None, variables_collections=None, outputs_collections=None, trainable=True, scope=None)\n",
      "    Adds a fully connected layer.\n",
      "    \n",
      "    `fully_connected` creates a variable called `weights`, representing a fully\n",
      "    connected weight matrix, which is multiplied by the `inputs` to produce a\n",
      "    `Tensor` of hidden units. If a `normalizer_fn` is provided (such as\n",
      "    `batch_norm`), it is then applied. Otherwise, if `normalizer_fn` is\n",
      "    None and a `biases_initializer` is provided then a `biases` variable would be\n",
      "    created and added the hidden units. Finally, if `activation_fn` is not `None`,\n",
      "    it is applied to the hidden units as well.\n",
      "    \n",
      "    Note: that if `inputs` have a rank greater than 2, then `inputs` is flattened\n",
      "    prior to the initial matrix multiply by `weights`.\n",
      "    \n",
      "    Args:\n",
      "      inputs: A tensor of with at least rank 2 and value for the last dimension,\n",
      "        i.e. `[batch_size, depth]`, `[None, None, None, channels]`.\n",
      "      num_outputs: Integer or long, the number of output units in the layer.\n",
      "      activation_fn: activation function, set to None to skip it and maintain\n",
      "        a linear activation.\n",
      "      normalizer_fn: normalization function to use instead of `biases`. If\n",
      "        `normalizer_fn` is provided then `biases_initializer` and\n",
      "        `biases_regularizer` are ignored and `biases` are not created nor added.\n",
      "        default set to None for no normalizer function\n",
      "      normalizer_params: normalization function parameters.\n",
      "      weights_initializer: An initializer for the weights.\n",
      "      weights_regularizer: Optional regularizer for the weights.\n",
      "      biases_initializer: An initializer for the biases. If None skip biases.\n",
      "      biases_regularizer: Optional regularizer for the biases.\n",
      "      reuse: whether or not the layer and its variables should be reused. To be\n",
      "        able to reuse the layer scope must be given.\n",
      "      variables_collections: Optional list of collections for all the variables or\n",
      "        a dictionary containing a different list of collections per variable.\n",
      "      outputs_collections: collection to add the outputs.\n",
      "      trainable: If `True` also add variables to the graph collection\n",
      "        `GraphKeys.TRAINABLE_VARIABLES` (see tf.Variable).\n",
      "      scope: Optional scope for variable_scope.\n",
      "    \n",
      "    Returns:\n",
      "       The tensor variable representing the result of the series of operations.\n",
      "    \n",
      "    Raises:\n",
      "      ValueError: if x has rank less than 2 or if its last dimension is not set.\n",
      "\n"
     ]
    }
   ],
   "source": [
    "help(tf.contrib.layers.fully_connected)"
   ]
  },
  {
   "cell_type": "code",
   "execution_count": 71,
   "metadata": {
    "collapsed": false,
    "deletable": true,
    "editable": true
   },
   "outputs": [
    {
     "name": "stdout",
     "output_type": "stream",
     "text": [
      "Tests Passed\n"
     ]
    }
   ],
   "source": [
    "embed_dim = 300\n",
    "def build_nn(cell, rnn_size, input_data, vocab_size):\n",
    "    \"\"\"\n",
    "    Build part of the neural network\n",
    "    :param cell: RNN cell\n",
    "    :param rnn_size: Size of rnns\n",
    "    :param input_data: Input data\n",
    "    :param vocab_size: Vocabulary size\n",
    "    :return: Tuple (Logits, FinalState)\n",
    "    \"\"\"\n",
    "    #Apply embedding to input_data using your get_embed(input_data, vocab_size, embed_dim) function.\n",
    "    inputs = get_embed(input_data, vocab_size, embed_dim)\n",
    "    \n",
    "    #Build RNN using cell and your build_rnn(cell, inputs) function.\n",
    "    outputs, finalState = build_rnn(cell, inputs)\n",
    "    \n",
    "    #Apply a fully connected layer with a linear activation and vocab_size as the number of outputs.\n",
    "    ##num_outputs == vocab_size\n",
    "    logits = tf.contrib.layers.fully_connected(outputs, vocab_size, activation_fn=None)\n",
    "    \n",
    "    #Return the logits and final state in the following tuple (Logits, FinalState)\n",
    "    return (logits, finalState)\n",
    "\n",
    "\n",
    "\"\"\"\n",
    "DON'T MODIFY ANYTHING IN THIS CELL THAT IS BELOW THIS LINE\n",
    "\"\"\"\n",
    "tests.test_build_nn(build_nn)"
   ]
  },
  {
   "cell_type": "markdown",
   "metadata": {
    "deletable": true,
    "editable": true
   },
   "source": [
    "### Batches\n",
    "Implement `get_batches` to create batches of input and targets using `int_text`.  The batches should be a Numpy array with the shape `(number of batches, 2, batch size, sequence length)`. Each batch contains two elements:\n",
    "- The first element is a single batch of **input** with the shape `[batch size, sequence length]`\n",
    "- The second element is a single batch of **targets** with the shape `[batch size, sequence length]`\n",
    "\n",
    "If you can't fill the last batch with enough data, drop the last batch.\n",
    "\n",
    "For exmple, `get_batches([1, 2, 3, 4, 5, 6, 7, 8, 9, 10, 11, 12, 13, 14, 15], 2, 3)` would return a Numpy array of the following:\n",
    "```\n",
    "[\n",
    "  # First Batch\n",
    "  [\n",
    "    # Batch of Input\n",
    "    [[ 1  2  3], [ 7  8  9]],\n",
    "    # Batch of targets\n",
    "    [[ 2  3  4], [ 8  9 10]]\n",
    "  ],\n",
    " \n",
    "  # Second Batch\n",
    "  [\n",
    "    # Batch of Input\n",
    "    [[ 4  5  6], [10 11 12]],\n",
    "    # Batch of targets\n",
    "    [[ 5  6  7], [11 12 13]]\n",
    "  ]\n",
    "]\n",
    "```"
   ]
  },
  {
   "cell_type": "code",
   "execution_count": 72,
   "metadata": {
    "collapsed": false,
    "deletable": true,
    "editable": true
   },
   "outputs": [
    {
     "name": "stdout",
     "output_type": "stream",
     "text": [
      "Tests Passed\n"
     ]
    }
   ],
   "source": [
    "def get_batches(int_text, batch_size, seq_length):\n",
    "    \"\"\"\n",
    "    Return batches of input and target\n",
    "    :param int_text: Text with the words replaced by their ids\n",
    "    :param batch_size: The size of batch\n",
    "    :param seq_length: The length of sequence\n",
    "    :return: Batches as a Numpy array\n",
    "    \"\"\"\n",
    "    int_text = int_text[16:]    \n",
    "    batch_cnt = (len(int_text)-1) // (batch_size * seq_length)\n",
    "    \n",
    "    int_text = int_text[:batch_cnt * batch_size * seq_length + 1]\n",
    "    int_text_sequences = [int_text[seq_length*i:seq_length*i+seq_length] for i in range(0, batch_cnt * batch_size)]\n",
    "    \n",
    "    #offset int_text by 1 before creating targets, the targets are what is meant to be generated.\n",
    "    int_text = int_text[1:]\n",
    "    int_text_targets = [int_text[seq_length*i:seq_length*i+seq_length] for i in range(0, batch_cnt * batch_size)]\n",
    "\n",
    "    output = []\n",
    "    for batch in range(batch_cnt):\n",
    "        inputs = []\n",
    "        targets = []\n",
    "        for size in range(batch_size):\n",
    "            inputs.append(int_text_sequences[size * batch_cnt + batch])\n",
    "            targets.append(int_text_targets[size * batch_cnt + batch])\n",
    "        output.append([inputs, targets])\n",
    "    return np.array(output)\n",
    "\n",
    "\n",
    "\"\"\"\n",
    "DON'T MODIFY ANYTHING IN THIS CELL THAT IS BELOW THIS LINE\n",
    "\"\"\"\n",
    "tests.test_get_batches(get_batches)"
   ]
  },
  {
   "cell_type": "markdown",
   "metadata": {
    "deletable": true,
    "editable": true
   },
   "source": [
    "## Neural Network Training\n",
    "### Hyperparameters\n",
    "Tune the following parameters:\n",
    "\n",
    "- Set `num_epochs` to the number of epochs.\n",
    "- Set `batch_size` to the batch size.\n",
    "- Set `rnn_size` to the size of the RNNs.\n",
    "- Set `seq_length` to the length of sequence.\n",
    "- Set `learning_rate` to the learning rate.\n",
    "- Set `show_every_n_batches` to the number of batches the neural network should print progress."
   ]
  },
  {
   "cell_type": "code",
   "execution_count": 101,
   "metadata": {
    "collapsed": true,
    "deletable": true,
    "editable": true
   },
   "outputs": [],
   "source": [
    "# Number of Epochs\n",
    "num_epochs = 200\n",
    "# Batch Size\n",
    "batch_size = 115\n",
    "# RNN Size\n",
    "rnn_size = 512\n",
    "# Sequence Length\n",
    "seq_length = 20\n",
    "# Learning Rate\n",
    "learning_rate = 0.01\n",
    "# Show stats for every n number of batches\n",
    "show_every_n_batches = get_batches(int_text, batch_size, seq_length).shape[0]\n",
    "\n",
    "\"\"\"\n",
    "DON'T MODIFY ANYTHING IN THIS CELL THAT IS BELOW THIS LINE\n",
    "\"\"\"\n",
    "save_dir = './save'"
   ]
  },
  {
   "cell_type": "markdown",
   "metadata": {
    "deletable": true,
    "editable": true
   },
   "source": [
    "### Build the Graph\n",
    "Build the graph using the neural network you implemented."
   ]
  },
  {
   "cell_type": "code",
   "execution_count": 102,
   "metadata": {
    "collapsed": false,
    "deletable": true,
    "editable": true
   },
   "outputs": [],
   "source": [
    "\"\"\"\n",
    "DON'T MODIFY ANYTHING IN THIS CELL\n",
    "\"\"\"\n",
    "from tensorflow.contrib import seq2seq\n",
    "\n",
    "train_graph = tf.Graph()\n",
    "with train_graph.as_default():\n",
    "    vocab_size = len(int_to_vocab)\n",
    "    input_text, targets, lr = get_inputs()\n",
    "    input_data_shape = tf.shape(input_text)\n",
    "    cell, initial_state = get_init_cell(input_data_shape[0], rnn_size)\n",
    "    logits, final_state = build_nn(cell, rnn_size, input_text, vocab_size)\n",
    "\n",
    "    # Probabilities for generating words\n",
    "    probs = tf.nn.softmax(logits, name='probs')\n",
    "\n",
    "    # Loss function\n",
    "    cost = seq2seq.sequence_loss(\n",
    "        logits,\n",
    "        targets,\n",
    "        tf.ones([input_data_shape[0], input_data_shape[1]]))\n",
    "\n",
    "    # Optimizer\n",
    "    optimizer = tf.train.AdamOptimizer(lr)\n",
    "\n",
    "    # Gradient Clipping\n",
    "    gradients = optimizer.compute_gradients(cost)\n",
    "    capped_gradients = [(tf.clip_by_value(grad, -1., 1.), var) for grad, var in gradients]\n",
    "    train_op = optimizer.apply_gradients(capped_gradients)"
   ]
  },
  {
   "cell_type": "markdown",
   "metadata": {
    "deletable": true,
    "editable": true
   },
   "source": [
    "## Train\n",
    "Train the neural network on the preprocessed data.  If you have a hard time getting a good loss, check the [forms](https://discussions.udacity.com/) to see if anyone is having the same problem."
   ]
  },
  {
   "cell_type": "code",
   "execution_count": 103,
   "metadata": {
    "collapsed": false,
    "deletable": true,
    "editable": true,
    "scrolled": true
   },
   "outputs": [
    {
     "name": "stdout",
     "output_type": "stream",
     "text": [
      "Epoch   0 Batch    0/30   train_loss = 8.822\n",
      "Epoch   1 Batch    0/30   train_loss = 7.099\n",
      "Epoch   2 Batch    0/30   train_loss = 6.610\n",
      "Epoch   3 Batch    0/30   train_loss = 6.599\n",
      "Epoch   4 Batch    0/30   train_loss = 6.445\n",
      "Epoch   5 Batch    0/30   train_loss = 6.517\n",
      "Epoch   6 Batch    0/30   train_loss = 5.912\n",
      "Epoch   7 Batch    0/30   train_loss = 5.430\n",
      "Epoch   8 Batch    0/30   train_loss = 5.254\n",
      "Epoch   9 Batch    0/30   train_loss = 5.050\n",
      "Epoch  10 Batch    0/30   train_loss = 4.873\n",
      "Epoch  11 Batch    0/30   train_loss = 4.739\n",
      "Epoch  12 Batch    0/30   train_loss = 4.596\n",
      "Epoch  13 Batch    0/30   train_loss = 4.530\n",
      "Epoch  14 Batch    0/30   train_loss = 4.428\n",
      "Epoch  15 Batch    0/30   train_loss = 4.351\n",
      "Epoch  16 Batch    0/30   train_loss = 4.322\n",
      "Epoch  17 Batch    0/30   train_loss = 4.240\n",
      "Epoch  18 Batch    0/30   train_loss = 4.148\n",
      "Epoch  19 Batch    0/30   train_loss = 4.110\n",
      "Epoch  20 Batch    0/30   train_loss = 4.047\n",
      "Epoch  21 Batch    0/30   train_loss = 3.962\n",
      "Epoch  22 Batch    0/30   train_loss = 3.910\n",
      "Epoch  23 Batch    0/30   train_loss = 3.839\n",
      "Epoch  24 Batch    0/30   train_loss = 3.772\n",
      "Epoch  25 Batch    0/30   train_loss = 3.693\n",
      "Epoch  26 Batch    0/30   train_loss = 3.711\n",
      "Epoch  27 Batch    0/30   train_loss = 3.622\n",
      "Epoch  28 Batch    0/30   train_loss = 3.583\n",
      "Epoch  29 Batch    0/30   train_loss = 3.466\n",
      "Epoch  30 Batch    0/30   train_loss = 3.436\n",
      "Epoch  31 Batch    0/30   train_loss = 3.394\n",
      "Epoch  32 Batch    0/30   train_loss = 3.343\n",
      "Epoch  33 Batch    0/30   train_loss = 3.288\n",
      "Epoch  34 Batch    0/30   train_loss = 3.260\n",
      "Epoch  35 Batch    0/30   train_loss = 3.173\n",
      "Epoch  36 Batch    0/30   train_loss = 3.129\n",
      "Epoch  37 Batch    0/30   train_loss = 3.050\n",
      "Epoch  38 Batch    0/30   train_loss = 3.015\n",
      "Epoch  39 Batch    0/30   train_loss = 2.946\n",
      "Epoch  40 Batch    0/30   train_loss = 2.839\n",
      "Epoch  41 Batch    0/30   train_loss = 2.824\n",
      "Epoch  42 Batch    0/30   train_loss = 2.722\n",
      "Epoch  43 Batch    0/30   train_loss = 2.691\n",
      "Epoch  44 Batch    0/30   train_loss = 2.619\n",
      "Epoch  45 Batch    0/30   train_loss = 2.557\n",
      "Epoch  46 Batch    0/30   train_loss = 2.504\n",
      "Epoch  47 Batch    0/30   train_loss = 2.442\n",
      "Epoch  48 Batch    0/30   train_loss = 2.383\n",
      "Epoch  49 Batch    0/30   train_loss = 2.347\n",
      "Epoch  50 Batch    0/30   train_loss = 2.280\n",
      "Epoch  51 Batch    0/30   train_loss = 2.271\n",
      "Epoch  52 Batch    0/30   train_loss = 2.212\n",
      "Epoch  53 Batch    0/30   train_loss = 2.159\n",
      "Epoch  54 Batch    0/30   train_loss = 2.095\n",
      "Epoch  55 Batch    0/30   train_loss = 2.063\n",
      "Epoch  56 Batch    0/30   train_loss = 2.030\n",
      "Epoch  57 Batch    0/30   train_loss = 1.979\n",
      "Epoch  58 Batch    0/30   train_loss = 1.927\n",
      "Epoch  59 Batch    0/30   train_loss = 1.873\n",
      "Epoch  60 Batch    0/30   train_loss = 1.849\n",
      "Epoch  61 Batch    0/30   train_loss = 1.823\n",
      "Epoch  62 Batch    0/30   train_loss = 1.799\n",
      "Epoch  63 Batch    0/30   train_loss = 1.711\n",
      "Epoch  64 Batch    0/30   train_loss = 1.638\n",
      "Epoch  65 Batch    0/30   train_loss = 1.616\n",
      "Epoch  66 Batch    0/30   train_loss = 1.600\n",
      "Epoch  67 Batch    0/30   train_loss = 1.578\n",
      "Epoch  68 Batch    0/30   train_loss = 1.528\n",
      "Epoch  69 Batch    0/30   train_loss = 1.511\n",
      "Epoch  70 Batch    0/30   train_loss = 1.486\n",
      "Epoch  71 Batch    0/30   train_loss = 1.453\n",
      "Epoch  72 Batch    0/30   train_loss = 1.417\n",
      "Epoch  73 Batch    0/30   train_loss = 1.420\n",
      "Epoch  74 Batch    0/30   train_loss = 1.390\n",
      "Epoch  75 Batch    0/30   train_loss = 1.306\n",
      "Epoch  76 Batch    0/30   train_loss = 1.264\n",
      "Epoch  77 Batch    0/30   train_loss = 1.259\n",
      "Epoch  78 Batch    0/30   train_loss = 1.216\n",
      "Epoch  79 Batch    0/30   train_loss = 1.176\n",
      "Epoch  80 Batch    0/30   train_loss = 1.129\n",
      "Epoch  81 Batch    0/30   train_loss = 1.125\n",
      "Epoch  82 Batch    0/30   train_loss = 1.079\n",
      "Epoch  83 Batch    0/30   train_loss = 1.051\n",
      "Epoch  84 Batch    0/30   train_loss = 1.041\n",
      "Epoch  85 Batch    0/30   train_loss = 1.044\n",
      "Epoch  86 Batch    0/30   train_loss = 1.014\n",
      "Epoch  87 Batch    0/30   train_loss = 0.985\n",
      "Epoch  88 Batch    0/30   train_loss = 0.975\n",
      "Epoch  89 Batch    0/30   train_loss = 0.992\n",
      "Epoch  90 Batch    0/30   train_loss = 0.971\n",
      "Epoch  91 Batch    0/30   train_loss = 0.948\n",
      "Epoch  92 Batch    0/30   train_loss = 0.913\n",
      "Epoch  93 Batch    0/30   train_loss = 0.963\n",
      "Epoch  94 Batch    0/30   train_loss = 0.948\n",
      "Epoch  95 Batch    0/30   train_loss = 0.867\n",
      "Epoch  96 Batch    0/30   train_loss = 0.854\n",
      "Epoch  97 Batch    0/30   train_loss = 0.874\n",
      "Epoch  98 Batch    0/30   train_loss = 0.831\n",
      "Epoch  99 Batch    0/30   train_loss = 0.767\n",
      "Epoch 100 Batch    0/30   train_loss = 0.749\n",
      "Epoch 101 Batch    0/30   train_loss = 0.723\n",
      "Epoch 102 Batch    0/30   train_loss = 0.699\n",
      "Epoch 103 Batch    0/30   train_loss = 0.673\n",
      "Epoch 104 Batch    0/30   train_loss = 0.651\n",
      "Epoch 105 Batch    0/30   train_loss = 0.610\n",
      "Epoch 106 Batch    0/30   train_loss = 0.595\n",
      "Epoch 107 Batch    0/30   train_loss = 0.568\n",
      "Epoch 108 Batch    0/30   train_loss = 0.568\n",
      "Epoch 109 Batch    0/30   train_loss = 0.526\n",
      "Epoch 110 Batch    0/30   train_loss = 0.504\n",
      "Epoch 111 Batch    0/30   train_loss = 0.507\n",
      "Epoch 112 Batch    0/30   train_loss = 0.468\n",
      "Epoch 113 Batch    0/30   train_loss = 0.469\n",
      "Epoch 114 Batch    0/30   train_loss = 0.466\n",
      "Epoch 115 Batch    0/30   train_loss = 0.456\n",
      "Epoch 116 Batch    0/30   train_loss = 0.431\n",
      "Epoch 117 Batch    0/30   train_loss = 0.424\n",
      "Epoch 118 Batch    0/30   train_loss = 0.428\n",
      "Epoch 119 Batch    0/30   train_loss = 0.404\n",
      "Epoch 120 Batch    0/30   train_loss = 0.379\n",
      "Epoch 121 Batch    0/30   train_loss = 0.372\n",
      "Epoch 122 Batch    0/30   train_loss = 0.354\n",
      "Epoch 123 Batch    0/30   train_loss = 0.331\n",
      "Epoch 124 Batch    0/30   train_loss = 0.324\n",
      "Epoch 125 Batch    0/30   train_loss = 0.318\n",
      "Epoch 126 Batch    0/30   train_loss = 0.305\n",
      "Epoch 127 Batch    0/30   train_loss = 0.294\n",
      "Epoch 128 Batch    0/30   train_loss = 0.279\n",
      "Epoch 129 Batch    0/30   train_loss = 0.269\n",
      "Epoch 130 Batch    0/30   train_loss = 0.262\n",
      "Epoch 131 Batch    0/30   train_loss = 0.258\n",
      "Epoch 132 Batch    0/30   train_loss = 0.257\n",
      "Epoch 133 Batch    0/30   train_loss = 0.257\n",
      "Epoch 134 Batch    0/30   train_loss = 0.245\n",
      "Epoch 135 Batch    0/30   train_loss = 0.256\n",
      "Epoch 136 Batch    0/30   train_loss = 0.258\n",
      "Epoch 137 Batch    0/30   train_loss = 0.250\n",
      "Epoch 138 Batch    0/30   train_loss = 0.247\n",
      "Epoch 139 Batch    0/30   train_loss = 0.233\n",
      "Epoch 140 Batch    0/30   train_loss = 0.222\n",
      "Epoch 141 Batch    0/30   train_loss = 0.228\n",
      "Epoch 142 Batch    0/30   train_loss = 0.228\n",
      "Epoch 143 Batch    0/30   train_loss = 0.222\n",
      "Epoch 144 Batch    0/30   train_loss = 0.213\n",
      "Epoch 145 Batch    0/30   train_loss = 0.205\n",
      "Epoch 146 Batch    0/30   train_loss = 0.199\n",
      "Epoch 147 Batch    0/30   train_loss = 0.199\n",
      "Epoch 148 Batch    0/30   train_loss = 0.196\n",
      "Epoch 149 Batch    0/30   train_loss = 0.197\n",
      "Epoch 150 Batch    0/30   train_loss = 0.190\n",
      "Epoch 151 Batch    0/30   train_loss = 0.182\n",
      "Epoch 152 Batch    0/30   train_loss = 0.172\n",
      "Epoch 153 Batch    0/30   train_loss = 0.168\n",
      "Epoch 154 Batch    0/30   train_loss = 0.164\n",
      "Epoch 155 Batch    0/30   train_loss = 0.161\n",
      "Epoch 156 Batch    0/30   train_loss = 0.156\n",
      "Epoch 157 Batch    0/30   train_loss = 0.154\n",
      "Epoch 158 Batch    0/30   train_loss = 0.153\n",
      "Epoch 159 Batch    0/30   train_loss = 0.152\n",
      "Epoch 160 Batch    0/30   train_loss = 0.151\n",
      "Epoch 161 Batch    0/30   train_loss = 0.150\n",
      "Epoch 162 Batch    0/30   train_loss = 0.149\n",
      "Epoch 163 Batch    0/30   train_loss = 0.149\n",
      "Epoch 164 Batch    0/30   train_loss = 0.149\n",
      "Epoch 165 Batch    0/30   train_loss = 0.148\n",
      "Epoch 166 Batch    0/30   train_loss = 0.148\n",
      "Epoch 167 Batch    0/30   train_loss = 0.148\n",
      "Epoch 168 Batch    0/30   train_loss = 0.148\n",
      "Epoch 169 Batch    0/30   train_loss = 0.147\n",
      "Epoch 170 Batch    0/30   train_loss = 0.147\n",
      "Epoch 171 Batch    0/30   train_loss = 0.147\n",
      "Epoch 172 Batch    0/30   train_loss = 0.147\n",
      "Epoch 173 Batch    0/30   train_loss = 0.147\n",
      "Epoch 174 Batch    0/30   train_loss = 0.146\n",
      "Epoch 175 Batch    0/30   train_loss = 0.146\n",
      "Epoch 176 Batch    0/30   train_loss = 0.146\n",
      "Epoch 177 Batch    0/30   train_loss = 0.146\n",
      "Epoch 178 Batch    0/30   train_loss = 0.146\n",
      "Epoch 179 Batch    0/30   train_loss = 0.146\n",
      "Epoch 180 Batch    0/30   train_loss = 0.146\n",
      "Epoch 181 Batch    0/30   train_loss = 0.146\n",
      "Epoch 182 Batch    0/30   train_loss = 0.145\n",
      "Epoch 183 Batch    0/30   train_loss = 0.146\n",
      "Epoch 184 Batch    0/30   train_loss = 0.145\n",
      "Epoch 185 Batch    0/30   train_loss = 0.146\n",
      "Epoch 186 Batch    0/30   train_loss = 0.145\n",
      "Epoch 187 Batch    0/30   train_loss = 0.145\n",
      "Epoch 188 Batch    0/30   train_loss = 0.145\n",
      "Epoch 189 Batch    0/30   train_loss = 0.145\n",
      "Epoch 190 Batch    0/30   train_loss = 0.145\n",
      "Epoch 191 Batch    0/30   train_loss = 0.145\n",
      "Epoch 192 Batch    0/30   train_loss = 0.145\n",
      "Epoch 193 Batch    0/30   train_loss = 0.145\n",
      "Epoch 194 Batch    0/30   train_loss = 0.144\n",
      "Epoch 195 Batch    0/30   train_loss = 0.145\n",
      "Epoch 196 Batch    0/30   train_loss = 0.144\n",
      "Epoch 197 Batch    0/30   train_loss = 0.145\n",
      "Epoch 198 Batch    0/30   train_loss = 0.144\n",
      "Epoch 199 Batch    0/30   train_loss = 0.145\n",
      "Model Trained and Saved\n"
     ]
    }
   ],
   "source": [
    "\"\"\"\n",
    "DON'T MODIFY ANYTHING IN THIS CELL\n",
    "\"\"\"\n",
    "batches = get_batches(int_text, batch_size, seq_length)\n",
    "\n",
    "with tf.Session(graph=train_graph) as sess:\n",
    "    sess.run(tf.global_variables_initializer())\n",
    "\n",
    "    for epoch_i in range(num_epochs):\n",
    "        state = sess.run(initial_state, {input_text: batches[0][0]})\n",
    "\n",
    "        for batch_i, (x, y) in enumerate(batches):\n",
    "            feed = {\n",
    "                input_text: x,\n",
    "                targets: y,\n",
    "                initial_state: state,\n",
    "                lr: learning_rate}\n",
    "            train_loss, state, _ = sess.run([cost, final_state, train_op], feed)\n",
    "\n",
    "            # Show every <show_every_n_batches> batches\n",
    "            if (epoch_i * len(batches) + batch_i) % show_every_n_batches == 0:\n",
    "                print('Epoch {:>3} Batch {:>4}/{}   train_loss = {:.3f}'.format(\n",
    "                    epoch_i,\n",
    "                    batch_i,\n",
    "                    len(batches),\n",
    "                    train_loss))\n",
    "\n",
    "    # Save Model\n",
    "    saver = tf.train.Saver()\n",
    "    saver.save(sess, save_dir)\n",
    "    print('Model Trained and Saved')"
   ]
  },
  {
   "cell_type": "markdown",
   "metadata": {
    "deletable": true,
    "editable": true
   },
   "source": [
    "## Save Parameters\n",
    "Save `seq_length` and `save_dir` for generating a new TV script."
   ]
  },
  {
   "cell_type": "code",
   "execution_count": 107,
   "metadata": {
    "collapsed": false,
    "deletable": true,
    "editable": true
   },
   "outputs": [],
   "source": [
    "\"\"\"\n",
    "DON'T MODIFY ANYTHING IN THIS CELL\n",
    "\"\"\"\n",
    "# Save parameters for checkpoint\n",
    "helper.save_params((seq_length, save_dir))"
   ]
  },
  {
   "cell_type": "markdown",
   "metadata": {
    "deletable": true,
    "editable": true
   },
   "source": [
    "# Checkpoint"
   ]
  },
  {
   "cell_type": "code",
   "execution_count": 108,
   "metadata": {
    "collapsed": false,
    "deletable": true,
    "editable": true
   },
   "outputs": [],
   "source": [
    "\"\"\"\n",
    "DON'T MODIFY ANYTHING IN THIS CELL\n",
    "\"\"\"\n",
    "import tensorflow as tf\n",
    "import numpy as np\n",
    "import helper\n",
    "import problem_unittests as tests\n",
    "\n",
    "_, vocab_to_int, int_to_vocab, token_dict = helper.load_preprocess()\n",
    "seq_length, load_dir = helper.load_params()"
   ]
  },
  {
   "cell_type": "markdown",
   "metadata": {
    "deletable": true,
    "editable": true
   },
   "source": [
    "## Implement Generate Functions\n",
    "### Get Tensors\n",
    "Get tensors from `loaded_graph` using the function [`get_tensor_by_name()`](https://www.tensorflow.org/api_docs/python/tf/Graph#get_tensor_by_name).  Get the tensors using the following names:\n",
    "- \"input:0\"\n",
    "- \"initial_state:0\"\n",
    "- \"final_state:0\"\n",
    "- \"probs:0\"\n",
    "\n",
    "Return the tensors in the following tuple `(InputTensor, InitialStateTensor, FinalStateTensor, ProbsTensor)` "
   ]
  },
  {
   "cell_type": "code",
   "execution_count": 109,
   "metadata": {
    "collapsed": false,
    "deletable": true,
    "editable": true
   },
   "outputs": [
    {
     "name": "stdout",
     "output_type": "stream",
     "text": [
      "Tests Passed\n"
     ]
    }
   ],
   "source": [
    "def get_tensors(loaded_graph):\n",
    "    \"\"\"\n",
    "    Get input, initial state, final state, and probabilities tensor from <loaded_graph>\n",
    "    :param loaded_graph: TensorFlow graph loaded from file\n",
    "    :return: Tuple (InputTensor, InitialStateTensor, FinalStateTensor, ProbsTensor)\n",
    "    \"\"\"\n",
    "    InputTensor = loaded_graph.get_tensor_by_name(\"input:0\")\n",
    "    InitialStateTensor = loaded_graph.get_tensor_by_name(\"initial_state:0\") \n",
    "    FinalStateTensor = loaded_graph.get_tensor_by_name(\"final_state:0\") \n",
    "    ProbsTensor = loaded_graph.get_tensor_by_name(\"probs:0\")\n",
    "    return  (InputTensor, InitialStateTensor, FinalStateTensor, ProbsTensor)\n",
    "\n",
    "\n",
    "\"\"\"\n",
    "DON'T MODIFY ANYTHING IN THIS CELL THAT IS BELOW THIS LINE\n",
    "\"\"\"\n",
    "tests.test_get_tensors(get_tensors)"
   ]
  },
  {
   "cell_type": "markdown",
   "metadata": {
    "deletable": true,
    "editable": true
   },
   "source": [
    "### Choose Word\n",
    "Implement the `pick_word()` function to select the next word using `probabilities`."
   ]
  },
  {
   "cell_type": "code",
   "execution_count": 110,
   "metadata": {
    "collapsed": false,
    "deletable": true,
    "editable": true
   },
   "outputs": [
    {
     "name": "stdout",
     "output_type": "stream",
     "text": [
      "Tests Passed\n"
     ]
    }
   ],
   "source": [
    "import random\n",
    "    \n",
    "def pick_from_top_5(choices):\n",
    "    #Get the top 5 choices\n",
    "    top5 = []\n",
    "    for i in range(min(len(choices), 5)):\n",
    "        index = np.argmax(choices)\n",
    "        top5.append((index, choices[index]))\n",
    "        choices.itemset(index, 0) # Avoid picking this index as argmax again\n",
    "        \n",
    "    #pick one of the \n",
    "    total = sum(w for c, w in top5)\n",
    "    r = random.uniform(0, total)\n",
    "    upto = 0\n",
    "    for c, w in top5:\n",
    "        if upto + w >= r:\n",
    "            return c\n",
    "        upto += w\n",
    "\n",
    "def pick_word(probabilities, int_to_vocab):\n",
    "    \"\"\"\n",
    "    Pick the next word in the generated text\n",
    "    :param probabilities: Probabilites of the next word\n",
    "    :param int_to_vocab: Dictionary of word ids as the keys and words as the values\n",
    "    :return: String of the predicted word\n",
    "    \"\"\"\n",
    "    return int_to_vocab[pick_from_top_5(probabilities)]\n",
    "\n",
    "\n",
    "\"\"\"\n",
    "DON'T MODIFY ANYTHING IN THIS CELL THAT IS BELOW THIS LINE\n",
    "\"\"\"\n",
    "tests.test_pick_word(pick_word)"
   ]
  },
  {
   "cell_type": "markdown",
   "metadata": {
    "deletable": true,
    "editable": true
   },
   "source": [
    "## Generate TV Script\n",
    "This will generate the TV script for you.  Set `gen_length` to the length of TV script you want to generate."
   ]
  },
  {
   "cell_type": "code",
   "execution_count": 121,
   "metadata": {
    "collapsed": false,
    "deletable": true,
    "editable": true
   },
   "outputs": [
    {
     "name": "stdout",
     "output_type": "stream",
     "text": [
      "homer_simpson:(sad) i don't want your pity booze. i'll pay for it myself.\n",
      "moe_szyslak: uh, the time gave me some drink to start enough and turn / much and uh...\n",
      "homer_simpson:(down) oh, it was hell.\n",
      "barney_gumble:(sings) this artie of the chest-- can this man. how do it is closed, or it?\"\n",
      "lenny_leonard: how many is right. maybe it has your best musical in beer!\n",
      "moe_szyslak: nah, hello. i want you know, the most the life of my daughter is, there's a procedure. and let me have you...\n",
      "moe_szyslak: okay, right-- i'm gonna have for an problems.\n",
      "moe_szyslak: well, there's ready to decide: up the place. and my back the springfield gas!\n",
      "moe_szyslak:(under his thought at glove) you should be his kind of week.\n",
      "moe_szyslak:(covering with in) you guys mind, i was so.\n",
      "moe_szyslak:(reading)\" uh, that's my law.\n",
      "man: i could. you mean, if i couldn't have a vacation.\n",
      "carl_carlson:(sings) what the favorite kid is not.\n",
      "lenny_leonard: oh, hey. it's the one names who has the only thing i am made to go to the drunk, of\n"
     ]
    }
   ],
   "source": [
    "gen_length = 250\n",
    "# homer_simpson, moe_szyslak, or Barney_Gumble\n",
    "prime_word = \"homer_simpson\"\n",
    "\n",
    "\"\"\"\n",
    "DON'T MODIFY ANYTHING IN THIS CELL THAT IS BELOW THIS LINE\n",
    "\"\"\"\n",
    "loaded_graph = tf.Graph()\n",
    "with tf.Session(graph=loaded_graph) as sess:\n",
    "    # Load saved model\n",
    "    loader = tf.train.import_meta_graph(load_dir + '.meta')\n",
    "    loader.restore(sess, load_dir)\n",
    "\n",
    "    # Get Tensors from loaded model\n",
    "    input_text, initial_state, final_state, probs = get_tensors(loaded_graph)\n",
    "\n",
    "    # Sentences generation setup\n",
    "    gen_sentences = [prime_word + ':']\n",
    "    prev_state = sess.run(initial_state, {input_text: np.array([[1]])})\n",
    "\n",
    "    # Generate sentences\n",
    "    for n in range(gen_length):\n",
    "        # Dynamic Input\n",
    "        dyn_input = [[vocab_to_int[word] for word in gen_sentences[-seq_length:]]]\n",
    "        dyn_seq_length = len(dyn_input[0])\n",
    "\n",
    "        # Get Prediction\n",
    "        probabilities, prev_state = sess.run(\n",
    "            [probs, final_state],\n",
    "            {input_text: dyn_input, initial_state: prev_state})\n",
    "        \n",
    "        pred_word = pick_word(probabilities[dyn_seq_length-1], int_to_vocab)\n",
    "\n",
    "        gen_sentences.append(pred_word)\n",
    "    \n",
    "    # Remove tokens\n",
    "    tv_script = ' '.join(gen_sentences)\n",
    "    for key, token in token_dict.items():\n",
    "        ending = ' ' if key in ['\\n', '(', '\"'] else ''\n",
    "        tv_script = tv_script.replace(' ' + token.lower(), key)\n",
    "    tv_script = tv_script.replace('\\n ', '\\n')\n",
    "    tv_script = tv_script.replace('( ', '(')\n",
    "        \n",
    "    print(tv_script)"
   ]
  },
  {
   "cell_type": "markdown",
   "metadata": {
    "deletable": true,
    "editable": true
   },
   "source": [
    "# The TV Script is Nonsensical\n",
    "It's ok if the TV script doesn't make any sense.  We trained on less than a megabyte of text.  In order to get good results, you'll have to use a smaller vocabulary or get more data.  Luckly there's more data!  As we mentioned in the begging of this project, this is a subset of [another dataset](https://www.kaggle.com/wcukierski/the-simpsons-by-the-data).  We didn't have you train on all the data, because that would take too long.  However, you are free to train your neural network on all the data.  After you complete the project, of course.\n",
    "# Submitting This Project\n",
    "When submitting this project, make sure to run all the cells before saving the notebook. Save the notebook file as \"dlnd_tv_script_generation.ipynb\" and save it as a HTML file under \"File\" -> \"Download as\". Include the \"helper.py\" and \"problem_unittests.py\" files in your submission."
   ]
  },
  {
   "cell_type": "code",
   "execution_count": null,
   "metadata": {
    "collapsed": true
   },
   "outputs": [],
   "source": []
  }
 ],
 "metadata": {
  "anaconda-cloud": {},
  "kernelspec": {
   "display_name": "Python [default]",
   "language": "python",
   "name": "python3"
  },
  "language_info": {
   "codemirror_mode": {
    "name": "ipython",
    "version": 3
   },
   "file_extension": ".py",
   "mimetype": "text/x-python",
   "name": "python",
   "nbconvert_exporter": "python",
   "pygments_lexer": "ipython3",
   "version": "3.5.2"
  }
 },
 "nbformat": 4,
 "nbformat_minor": 0
}
